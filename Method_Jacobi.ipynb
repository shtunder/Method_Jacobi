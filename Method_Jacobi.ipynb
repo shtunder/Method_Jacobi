{
 "cells": [
  {
   "cell_type": "markdown",
   "metadata": {},
   "source": [
    "**Метод Якоби**\n",
    "\n",
    "Метод Якоби — итерационный алгоритм для вычисления собственных значений\n",
    "и собственных векторов вещественной симметричной матрицы.\n",
    "\n",
    "**Алгоритм**\n",
    "\n",
    "Исходные данные: симметричная матрица $A$ (элементы $a_{ij}$).\n",
    "\n",
    "Вычисляемые данные: диагональная матрица $\\Lambda$ (элементы\n",
    "$\\lambda_{ij}$).\n",
    "\n",
    "Матрица $A_{i+1}$ получается из $A_i$ по формуле\n",
    "$A_{i+1}=J_i^{T} A_i J_i$, где $J_i$ — ортогональная матрица, называемая\n",
    "вращением Якоби. При подходящем выборе $J_i$ матрица $A_m$ для больших\n",
    "$m$ будет близка к диагональной матрице $\\Lambda$.\n",
    "\n",
    "Матрица $J_i$ выбирается так, чтобы сделать нулями пару внедиагональных\n",
    "элементов матрицы $A_{i+1}$. \n",
    "\n",
    "Обозначим $s = \\sin(\\theta)$ и $c = \\cos(\\theta)$. Тогда матрица\n",
    "$A_{i+1}$ состоит из следующих элементов:\n",
    "\n",
    "$$\\begin{aligned}\n",
    "a_{jj}^{(i+1)} &= c^2\\, a_{jj}^{(i)}  -  2 s c\\, a_{jk}^{(i)}  +  s^2\\, a_{kk}^{(i)} \\\\\n",
    "a_{kk}^{(i+1)} &= s^2 \\,a_{jj}^{(i)}  +  2 s c\\, a_{jk}^{(i)}  +  c^2 \\, a_{kk}^{(i)} \\\\\n",
    "a_{jk}^{(i+1)} &= a_{kj}^{(i+1)} = (c^2 - s^2 ) \\, a_{jk}^{(i)}  +  s c \\, (a_{kk}^{(i)} - a_{jj}^{(i)} ) \\\\\n",
    "a_{jm}^{(i+1)} &= a_{mj}^{(i+1)} = c \\, a_{jm}^{(i)}  -  s \\, a_{km}^{(i)} & m \\ne j,k \\\\\n",
    "a_{km}^{(i+1)} &= a_{mk}^{(i+1)} = s \\, a_{jm}^{(i)}  + c \\, a_{km}^{(i)} & m \\ne j,k \\\\\n",
    "a_{ml}^{(i+1)} &= a_{ml}^{(i)} &m,l \\ne j,k\\end{aligned}$$\n",
    "\n",
    "Можно выбрать $\\theta$ так, чтобы $a_{jk}^{(i+1)} = 0$ и\n",
    "$a_{kj}^{(i+1)} = 0$. Отсюда получим равенство\n",
    "$$\\frac{a_{jj}^{(i)} - a_{kk}^{(i)}}{2 a_{jk}^{(i)}} = \\frac{c^2 - s^2}{2sc} = \\frac{\\cos(2\\theta)}{\\sin(2\\theta)} = \\operatorname{ctg}(2\\theta) \\equiv \\tau.$$\n",
    "\n",
    "Если $a_{jj}^{(i)} = a_{kk}^{(i)}$, то $\\theta = \\frac{\\pi}{4}$.\n",
    "\n",
    "Положим $t = \\frac{s}{c} = \\operatorname{tg}(\\theta)$ и заметим, что\n",
    "$t^2 + 2 t \\tau - 1 = 0$. Решая квадратное уравнение, находим\n",
    "$$t = \\frac{\\operatorname{sign}(\\tau)}{|\\tau| + \\sqrt{1+\\tau^2}}, \\quad c = \\frac{1}{\\sqrt{1+t^2}}, \\quad s = tc.$$\n",
    "Выбор параметров $j$ и $k$ производится путем построчного циклического\n",
    "обхода внедиагональных элементов матрицы $A$."
   ]
  },
  {
   "cell_type": "code",
   "execution_count": 8,
   "metadata": {},
   "outputs": [
    {
     "name": "stdout",
     "output_type": "stream",
     "text": [
      "Вещественная симметричная матрица A, для которой мы хотим найти собственные числа и векторы:\n",
      "[[ 2. -1.  0.  0.]\n",
      " [-1.  2. -1.  0.]\n",
      " [ 0. -1.  2. -1.]\n",
      " [ 0.  0. -1.  2.]] \n",
      "\n",
      "Вычисленная диагональная матрица:\n",
      "[[ 3.81966011e-01  5.90604092e-08  5.02580446e-09 -2.04540255e-12]\n",
      " [ 5.90604092e-08  3.61803399e+00  4.64663860e-11 -5.05591173e-17]\n",
      " [ 5.02580450e-09  4.64665020e-11  2.61803399e+00  0.00000000e+00]\n",
      " [-2.04543464e-12 -1.76096303e-16  1.09360000e-16  1.38196601e+00]] \n",
      "\n",
      "Собственные числа вычисленные с помощью метода Якоби:\n",
      "[0.38196601 3.61803399 2.61803399 1.38196601] \n",
      "\n",
      "Собственные числа вычисленные с помощью numpy:\n",
      "[3.61803399 2.61803399 0.38196601 1.38196601]\n"
     ]
    }
   ],
   "source": [
    "import numpy as np\n",
    "\n",
    "n = 4\n",
    "A = 2 * np.eye(n) - np.eye(n, k=1) - np.eye(n, k=-1)\n",
    "\n",
    "def Jacobi_Rotation(A,j,k):\n",
    "    J = np.eye(n)\n",
    "    if A[j,j] == A[k,k]:\n",
    "        theta = np.pi / 4\n",
    "        J[j, j], J[j, k], J[k, j], J[k, k] = np.cos(theta), -np.sin(theta), np.sin(theta), np.cos(theta)   \n",
    "    else:       \n",
    "        tau = (A[j,j] - A[k,k]) / (2 * A[j,k]) # ctg(2a)\n",
    "        tg = np.sign(tau) / (abs(tau) + np.sqrt(1 + tau**2)) # tg(a)\n",
    "        cos = 1 / np.sqrt(1 + tg**2) # cos(a)\n",
    "        sin = cos * tg # sin(a)\n",
    "        J[j, j], J[j, k], J[k, j], J[k, k] = cos, -sin, sin, cos\n",
    "    S = np.dot(np.transpose(J), np.dot(A,J))\n",
    "    return S\n",
    "\n",
    "def Jacobi(A):\n",
    "    while True:\n",
    "        for j in range(0,n-1):\n",
    "            for k in range(j+1,n):\n",
    "                A = Jacobi_Rotation(A,j,k) # A_{i+1}\n",
    "                if (np.linalg.norm(A - np.diag(np.diag(A))) < 10**-6):\n",
    "                    return A\n",
    "print(\"Вещественная симметричная матрица A, для которой мы хотим найти собственные числа и векторы:\")                \n",
    "print(A, \"\\n\")  \n",
    "print(\"Вычисленная диагональная матрица:\")\n",
    "print(Jacobi(A), \"\\n\")\n",
    "print(\"Собственные числа вычисленные с помощью метода Якоби:\")\n",
    "print(np.diag(Jacobi(A)), \"\\n\")\n",
    "print(\"Собственные числа вычисленные с помощью numpy:\")\n",
    "print(np.linalg.eigvals(A))"
   ]
  }
 ],
 "metadata": {
  "kernelspec": {
   "display_name": "Python 3",
   "language": "python",
   "name": "python3"
  },
  "language_info": {
   "codemirror_mode": {
    "name": "ipython",
    "version": 3
   },
   "file_extension": ".py",
   "mimetype": "text/x-python",
   "name": "python",
   "nbconvert_exporter": "python",
   "pygments_lexer": "ipython3",
   "version": "3.7.4"
  }
 },
 "nbformat": 4,
 "nbformat_minor": 4
}
